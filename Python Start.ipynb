{
 "cells": [
  {
   "cell_type": "code",
   "execution_count": 1,
   "id": "e2dc05f5-d8dc-4690-9a63-f4ba24e627cd",
   "metadata": {},
   "outputs": [
    {
     "name": "stdin",
     "output_type": "stream",
     "text": [
      "Add your name Neg\n"
     ]
    },
    {
     "name": "stdout",
     "output_type": "stream",
     "text": [
      "Neg\n"
     ]
    }
   ],
   "source": [
    "FirstName = input (\"Add your name\")\n",
    "print (FirstName)"
   ]
  },
  {
   "cell_type": "code",
   "execution_count": 2,
   "id": "9aef927b-3b67-45d7-999d-d213d93d9dda",
   "metadata": {},
   "outputs": [
    {
     "name": "stdin",
     "output_type": "stream",
     "text": [
      " Neg\n"
     ]
    }
   ],
   "source": [
    "FN = input ()"
   ]
  },
  {
   "cell_type": "code",
   "execution_count": 3,
   "id": "4bf3f179-66e3-4910-b469-29693d3d6c3e",
   "metadata": {},
   "outputs": [
    {
     "name": "stdin",
     "output_type": "stream",
     "text": [
      " Imn\n"
     ]
    }
   ],
   "source": [
    "LN = input ()"
   ]
  },
  {
   "cell_type": "code",
   "execution_count": 4,
   "id": "a6d167a3-ce93-45fe-9b4b-20b10c7806f4",
   "metadata": {},
   "outputs": [],
   "source": [
    "MN= FN + ' ' + LN"
   ]
  },
  {
   "cell_type": "code",
   "execution_count": 5,
   "id": "2b87f98a-cf91-46fd-a1ed-34191b2e9ffb",
   "metadata": {},
   "outputs": [
    {
     "name": "stdout",
     "output_type": "stream",
     "text": [
      "Neg Imn\n"
     ]
    }
   ],
   "source": [
    "print (MN)"
   ]
  },
  {
   "cell_type": "code",
   "execution_count": 6,
   "id": "2a16e7dc-8d3c-48aa-9bb7-b2313d25bcd4",
   "metadata": {},
   "outputs": [
    {
     "name": "stdin",
     "output_type": "stream",
     "text": [
      "How much you like Ice cream? 6\n"
     ]
    },
    {
     "name": "stdout",
     "output_type": "stream",
     "text": [
      "you have a sweet thooth\n"
     ]
    }
   ],
   "source": [
    "Ice_cream_rating = input (\"How much you like Ice cream?\")\n",
    "if Ice_cream_rating > '5':\n",
    "    print (\"you have a sweet thooth\")\n",
    "if Ice_cream_rating< '5':\n",
    "    print (\"Are you kidding?\")"
   ]
  },
  {
   "cell_type": "code",
   "execution_count": 7,
   "id": "bb0d0dbb-289b-4832-8954-aa3158f18095",
   "metadata": {},
   "outputs": [
    {
     "name": "stdin",
     "output_type": "stream",
     "text": [
      "How much do you like Ice cream? 6\n",
      "How much do you like Sleep? 8\n"
     ]
    },
    {
     "name": "stdout",
     "output_type": "stream",
     "text": [
      "your average happiness score is 7\n"
     ]
    }
   ],
   "source": [
    "Ice_cream_rating =  input ('How much do you like Ice cream?')\n",
    "Sleeping_rating = input ('How much do you like Sleep?')\n",
    "Happiness = (int (Ice_cream_rating) + int (Sleeping_rating))/2\n",
    "print ( 'your average happiness score is', int (Happiness))"
   ]
  },
  {
   "cell_type": "code",
   "execution_count": null,
   "id": "26c8f785-ff04-4825-a0e0-79105ed64e1d",
   "metadata": {},
   "outputs": [],
   "source": [
    "print ('finally succeeded')"
   ]
  },
  {
   "cell_type": "code",
   "execution_count": null,
   "id": "5b78af76-a4b2-40a4-954c-e329db9059fb",
   "metadata": {},
   "outputs": [],
   "source": []
  },
  {
   "cell_type": "code",
   "execution_count": null,
   "id": "2f039abf-a1b4-44a4-b61a-dc2bca020a03",
   "metadata": {},
   "outputs": [],
   "source": []
  }
 ],
 "metadata": {
  "kernelspec": {
   "display_name": "Python 3 (ipykernel)",
   "language": "python",
   "name": "python3"
  },
  "language_info": {
   "codemirror_mode": {
    "name": "ipython",
    "version": 3
   },
   "file_extension": ".py",
   "mimetype": "text/x-python",
   "name": "python",
   "nbconvert_exporter": "python",
   "pygments_lexer": "ipython3",
   "version": "3.10.4"
  }
 },
 "nbformat": 4,
 "nbformat_minor": 5
}
